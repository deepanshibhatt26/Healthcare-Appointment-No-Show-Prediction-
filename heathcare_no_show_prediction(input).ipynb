{
 "cells": [
  {
   "cell_type": "markdown",
   "id": "605852c7",
   "metadata": {},
   "source": [
    "### Project Overview\n",
    "\n",
    "Millions of patients book appointments in hospitals and clinics every day, but a significant number of them do not show up.\n",
    "\n",
    "These missed appointments, known as “no-shows,” lead to:\n",
    "\n",
    "- Wasted doctor and staff time  \n",
    "- Delayed care for other patients  \n",
    "- Financial losses for healthcare providers  \n",
    "- Inefficient use of hospital resources\n",
    "\n",
    "### Why Predicting No-Shows Matters\n",
    "\n",
    "By analyzing historical appointment data, hospitals can:\n",
    "\n",
    "- Send reminders to patients who are at higher risk of missing appointments  \n",
    "- Schedule appointments more effectively  \n",
    "- Identify patterns related to age, health conditions, and scheduling behavior  \n",
    "- Improve timely access to care\n",
    "\n",
    "### Project Goal\n",
    "\n",
    "This project uses real-world data from over 110,000 hospital appointments in Brazil to:\n",
    "\n",
    "- Analyze key trends and factors behind patient no-shows  \n",
    "- Build a machine learning model to predict whether a patient will miss their appointment  \n",
    "- Develop visual dashboards in Power BI to support hospital decision-making\n",
    "\n",
    "### Impact\n",
    "\n",
    "By predicting and reducing no-shows, healthcare providers can:\n",
    "\n",
    "- Increase operational efficiency  \n",
    "- Reduce waiting times  \n",
    "- Improve resource management  \n",
    "- Enhance patient care and satisfaction\n"
   ]
  },
  {
   "cell_type": "markdown",
   "id": "ab6726f0",
   "metadata": {},
   "source": [
    "<div style=\"border:1px solid #1E90FF; padding: 15px; border-radius: 5px; background-color: #E6F0FA\">\n",
    "\n",
    "<h3 style=\"color:#1E90FF;\">Table of Contents</h3>\n",
    "\n",
    "1. <a href=\"#importing-libraries-and-loading-data\">Importing Libraries and Loading Dataset</a>  \n",
    "2. <a href=\"#dataset-description\">Dataset Description</a>  \n",
    "3. <a href=\"#data-cleaning\">Data Cleaning</a>  \n",
    "4. <a href=\"#data-cleaning\">Descriptive Statistics</a>  \n",
    "5. <a href=\"#exploratory-data-analysis\">Exploratory Data Analysis (EDA)</a>  \n",
    "6. <a href=\"#machine-learning-pipeline\">Machine Learning Pipeline</a>  \n",
    "7. <a href=\"#Tableau-dashboard\">Tableau Dashboard</a>  \n",
    "8. <a href=\"#conclusion\">Conclusion & Recommendations</a>\n",
    "\n",
    "</div>\n"
   ]
  },
  {
   "cell_type": "markdown",
   "id": "6bb409ee",
   "metadata": {},
   "source": [
    "<div style=\"border:0.5px solid #1E90FF; padding: 10px 15px; border-radius: 5px; background-color:rgb(58, 118, 228); width: fit-content; font-size: 15px;\">\n",
    "  <h4 style=\"margin: 5px 0;\">Importing Libraries and Loading Dataset</h4>\n",
    "</div>"
   ]
  },
  {
   "cell_type": "code",
   "execution_count": null,
   "id": "53cf219d",
   "metadata": {},
   "outputs": [],
   "source": [
    "### Data Handling\n",
    "import pandas as pd\n",
    "import numpy as np\n",
    "\n",
    "### Visualization\n",
    "import matplotlib.pyplot as plt\n",
    "import seaborn as sns\n",
    "\n",
    "### Machine Learning\n",
    "from sklearn.model_selection import train_test_split\n",
    "from sklearn.tree import DecisionTreeClassifier\n",
    "from sklearn.metrics import accuracy_score, confusion_matrix, classification_report\n"
   ]
  },
  {
   "cell_type": "code",
   "execution_count": null,
   "id": "434cf787",
   "metadata": {},
   "outputs": [],
   "source": [
    "### Load the dataset\n",
    "df = pd.read_csv(\"C:/Users/DEEPANSHI/OneDrive/Desktop/INTERNSHIP ELEVATE LABS/project 1/KaggleV2-May-2016.csv\")\n"
   ]
  },
  {
   "cell_type": "markdown",
   "id": "4335d2a2",
   "metadata": {},
   "source": [
    "<div style=\"border:0.5px solid #1E90FF; padding: 10px 15px; border-radius: 5px; background-color:rgb(58, 118, 228); width: fit-content; font-size: 15px;\">\n",
    "  <h4 style=\"margin: 5px 0;\">Dataset Description</h4>\n",
    "</div>"
   ]
  },
  {
   "cell_type": "code",
   "execution_count": null,
   "id": "1e427cdc",
   "metadata": {},
   "outputs": [],
   "source": [
    "\n",
    "from IPython.display import display, HTML\n",
    "\n",
    "# Set horizontal scroll for wide DataFrames\n",
    "display(HTML(\"<style>.output_result {overflow-x: auto;}</style>\"))\n",
    "# Renaming columns to fix spelling and formatting\n",
    "df.rename(columns={\n",
    "    'Hipertension': 'Hypertension',\n",
    "    'Handcap': 'Handicap'\n",
    "}, inplace=True)\n",
    "display(df)\n"
   ]
  },
  {
   "cell_type": "markdown",
   "id": "383da741",
   "metadata": {},
   "source": [
    "This dataset contains medical appointment records from Brazil, and it's used to analyze whether patients show up for their scheduled appointments. The dataset has 110,527 rows and 14 columns.\n",
    "\n",
    "1. PatientId\n",
    "A unique identifier for each patient. It helps identify if a patient booked multiple appointments. It’s stored as a long number (in scientific notation), so we may convert it for readability.\n",
    "\n",
    "2. AppointmentID\n",
    "Another unique identifier — this one is for the appointment itself. It’s not very useful for analysis or prediction but helps keep records unique.\n",
    "\n",
    "3. Gender\n",
    "Shows the patient's gender: either 'M' for male or 'F' for female. This can help us analyze if gender affects appointment attendance.\n",
    "\n",
    "4. ScheduledDay\n",
    "The date and time when the patient scheduled their appointment. It's in string format and needs to be converted to datetime for calculations like lead time (how many days between scheduling and appointment).\n",
    "\n",
    "5. AppointmentDay\n",
    "The actual date when the appointment was supposed to happen. This, combined with ScheduledDay, helps calculate delays or behavior patterns.\n",
    "\n",
    "6. Age\n",
    "Age of the patient in years. It’s an important feature — for example, younger or elderly patients might have different attendance patterns. We'll need to check and clean any negative values here.\n",
    "\n",
    "7. Neighbourhood\n",
    "Shows where the clinic is located. This is the patient’s local area or zone. We can use this for location-based trends.\n",
    "\n",
    "8. Scholarship\n",
    "This is a binary column: 1 means the patient is part of a social welfare program, and 0 means they are not. It helps analyze if socio-economic factors influence no-shows.\n",
    "\n",
    "9. Hypertension\n",
    " It’s 1 if the patient has high blood pressure, 0 if not. It's one of the medical condition features.\n",
    "\n",
    "10. Diabetes\n",
    "1 if the patient has diabetes, 0 if not. Another health-related factor that might affect attendance.\n",
    "\n",
    "11. Alcoholism\n",
    "1 if the patient has been flagged for alcoholism, 0 if not. May be related to reliability in attending medical appointments.\n",
    "\n",
    "12. Handicap\n",
    "This represents if a patient is physically disabled. The values can range from 0 to 4 (the higher the number, the more severe the disability). Again, it might affect ability or likelihood to attend appointments.\n",
    "\n",
    "13. SMS_received\n",
    "This tells whether the patient received a reminder SMS or not. 1 means SMS was received, 0 means it wasn’t. This is one of the most important predictors of a no-show.\n",
    "\n",
    "14. No-show\n",
    "This is the target variable — it tells whether the patient missed the appointment.\n",
    "\n",
    "\"No\" means they did show up\n",
    "\n",
    "\"Yes\" means they did not show up"
   ]
  },
  {
   "cell_type": "markdown",
   "id": "d22eb564",
   "metadata": {},
   "source": [
    "<div style=\"border:0.5px solid #1E90FF; padding: 10px 15px; border-radius: 5px; background-color:rgb(58, 118, 228); width: fit-content; font-size: 15px;\">\n",
    "  <h4 style=\"margin: 5px 0;\">Data Cleaning</h4>\n",
    "</div>"
   ]
  },
  {
   "cell_type": "code",
   "execution_count": null,
   "id": "45da37c6",
   "metadata": {},
   "outputs": [],
   "source": [
    "df.info()"
   ]
  },
  {
   "cell_type": "code",
   "execution_count": null,
   "id": "50a4996b",
   "metadata": {},
   "outputs": [],
   "source": [
    "### Convert ScheduledDay and AppointmentDay to datetime format\n",
    "df['ScheduledDay'] = pd.to_datetime(df['ScheduledDay'])\n",
    "df['AppointmentDay'] = pd.to_datetime(df['AppointmentDay'])\n",
    "\n",
    "# Create WaitingDays column\n",
    "df['WaitingDays'] = (df['AppointmentDay'] - df['ScheduledDay']).dt.days\n",
    "\n",
    "# Remove rows with negative ages\n",
    "df = df[df['Age'] >= 0]\n",
    "\n",
    "# Drop duplicates\n",
    "df.drop_duplicates(inplace=True)\n",
    "\n"
   ]
  },
  {
   "cell_type": "code",
   "execution_count": null,
   "id": "59272e15",
   "metadata": {},
   "outputs": [],
   "source": [
    "\n",
    "df[['ScheduledDay', 'AppointmentDay', 'WaitingDays']].head()"
   ]
  },
  {
   "cell_type": "code",
   "execution_count": null,
   "id": "57e34219",
   "metadata": {},
   "outputs": [],
   "source": [
    "### Filtering Invalid Waiting Days \n",
    "### The `WaitingDays` column was calculated as the difference between the appointment date and the scheduling date. Any negative values in this column indicate data entry errors — where the appointment appears to have occurred before it was scheduled, which is not possible.\n",
    "###To ensure data integrity, all records with `WaitingDays < 0` were removed from the dataset.\n",
    "df = df[df['WaitingDays'] >= 0]\n",
    "df[['WaitingDays']].head()\n",
    "\n"
   ]
  },
  {
   "cell_type": "code",
   "execution_count": null,
   "id": "87a4d7a4",
   "metadata": {},
   "outputs": [],
   "source": [
    "### Remaining Rows After Cleaning\n",
    "\n",
    "df.shape[0]\n",
    "print (\"Total Rows\", df.shape[0])"
   ]
  },
  {
   "cell_type": "markdown",
   "id": "8b0ac291",
   "metadata": {},
   "source": [
    "<div style=\"border:0.5px solid #1E90FF; padding: 10px 15px; border-radius: 5px; background-color:rgb(58, 118, 228); width: fit-content; font-size: 15px;\">\n",
    "  <h4 style=\"margin: 5px 0;\">Descriptive Statistics</h4>\n",
    "</div>"
   ]
  },
  {
   "cell_type": "markdown",
   "id": "23df455d",
   "metadata": {},
   "source": [
    "<h5> After cleaning the dataset, we generate summary statistics of all numerical columns to understand central tendencies and data distribution. This helps identify any remaining outliers and guides further exploration.</h5>"
   ]
  },
  {
   "cell_type": "code",
   "execution_count": null,
   "id": "e6f3007a",
   "metadata": {},
   "outputs": [],
   "source": [
    "df.describe()\n"
   ]
  },
  {
   "cell_type": "code",
   "execution_count": null,
   "id": "7db4a4d7",
   "metadata": {},
   "outputs": [],
   "source": [
    "\n",
    "def detect_outliers(df, column):\n",
    "    Q1 = df[column].quantile(0.25)\n",
    "    Q3 = df[column].quantile(0.75)\n",
    "    IQR = Q3 - Q1\n",
    "    lower_bound = Q1 - 1.5 * IQR\n",
    "    upper_bound = Q3 + 1.5 * IQR\n",
    "    outliers = df[(df[column] < lower_bound) | (df[column] > upper_bound)]\n",
    "    print(f\"{column}: {len(outliers)} outliers\")\n",
    "\n",
    "# Run for only key columns\n",
    "for col in ['Age', 'WaitingDays']:\n",
    "    detect_outliers(df, col)\n"
   ]
  },
  {
   "cell_type": "markdown",
   "id": "e274eed2",
   "metadata": {},
   "source": [
    "The cleaned dataset comprises 71,959 appointment records, including both patient-level and appointment-level variables. Key insights from the numerical features are as follows:\n",
    "\n",
    "1.Patient Demographics\n",
    "\n",
    "Age ranges from 0 to 115 years, with a mean of 38.5 and median of 39, indicating a wide age distribution centered around middle-aged individuals.\n",
    "\n",
    "Presence of patients aged 0 and above 100 suggests the dataset includes both infants and elderly, which may warrant subgroup analysis in relation to appointment attendance.\n",
    "\n",
    "2.Socioeconomic Indicators\n",
    "\n",
    "The Scholarship variable has a mean of 0.09, indicating approximately 9% of patients are enrolled in a government assistance program.\n",
    "\n",
    "This may serve as a proxy for socioeconomic status and could impact no-show behavior.\n",
    "\n",
    "3.Medical Conditions\n",
    "\n",
    "Hypertension is observed in 20.9% of patients, followed by Diabetes in 7.5%.\n",
    "\n",
    "Alcoholism and Handicap are present in 2.5% and 2.0% of patients, respectively.\n",
    "\n",
    "The Handicap variable ranges from 0 to 4, suggesting it may be categorical and could reflect varying degrees of disability.\n",
    "\n",
    "4.Communication\n",
    "\n",
    "The SMS_received feature has a mean of approximately 0.49, implying that around half of the patients received an SMS reminder.\n",
    "\n",
    "This feature may be a key variable in assessing the effectiveness of reminder systems in reducing no-shows.\n",
    "\n",
    "5.Waiting Time\n",
    "\n",
    "WaitingDays range from 0 to 178 days, with:\n",
    "\n",
    "Mean: 14.6 days\n",
    "\n",
    "25th percentile: 3 days\n",
    "\n",
    "Median: 8 days\n",
    "\n",
    "75th percentile: 21 days\n",
    "\n",
    "The variability in waiting time may influence appointment adherence and will be considered in the predictive modeling phase.\n",
    "\n"
   ]
  },
  {
   "cell_type": "markdown",
   "id": "af232ca7",
   "metadata": {},
   "source": [
    "<div style=\"border:0.5px solid #1E90FF; padding: 10px 15px; border-radius: 5px; background-color:rgb(58, 118, 228); width: fit-content; font-size: 15px;\">\n",
    "  <h4 style=\"margin: 5px 0;\">Exploratory Data Analysis (EDA)</h4>\n",
    "</div>"
   ]
  },
  {
   "cell_type": "markdown",
   "id": "89d8c3c2",
   "metadata": {},
   "source": [
    "Analyzing the target column No-show, which indicates whether a patient missed the appointment."
   ]
  },
  {
   "cell_type": "code",
   "execution_count": null,
   "id": "49be3917",
   "metadata": {},
   "outputs": [],
   "source": [
    "plt.figure(figsize=(10, 5))\n",
    "sns.countplot(data=df, x='No-show', color='skyblue')\n",
    "plt.title('Appointment Attendance Distribution')\n",
    "plt.xlabel('No-show')\n",
    "plt.ylabel('Count')\n",
    "plt.show()\n"
   ]
  },
  {
   "cell_type": "markdown",
   "id": "6fac12a1",
   "metadata": {},
   "source": [
    "   <h4><B>BIVARIATE ANALYSIS</B></h4>"
   ]
  },
  {
   "cell_type": "markdown",
   "id": "a465f5e3",
   "metadata": {},
   "source": [
    "2. To check whether age influences patients miss appointments."
   ]
  },
  {
   "cell_type": "code",
   "execution_count": null,
   "id": "7aac75be",
   "metadata": {},
   "outputs": [],
   "source": [
    "plt.figure(figsize=(10, 5))\n",
    "sns.boxplot(data=df, x='No-show', y='Age',hue='No-show', palette='pastel')\n",
    "plt.title('Age Distribution by No-show Status')\n",
    "plt.xlabel('No-show')\n",
    "plt.ylabel('Age')\n",
    "plt.show()\n"
   ]
  },
  {
   "cell_type": "markdown",
   "id": "df7e5fcf",
   "metadata": {},
   "source": [
    "3.To check if sending an SMS helped people attend their appointments"
   ]
  },
  {
   "cell_type": "code",
   "execution_count": null,
   "id": "0bba3b26",
   "metadata": {},
   "outputs": [],
   "source": [
    "plt.figure(figsize=(10, 5))\n",
    "sns.countplot(data=df, x='SMS_received', hue='No-show', palette='Set2')\n",
    "plt.title('No-show by SMS Received')\n",
    "plt.xlabel('SMS Received (0 = No, 1 = Yes)')\n",
    "plt.ylabel('Count')\n",
    "plt.legend(title='No-show')\n",
    "plt.show()\n"
   ]
  },
  {
   "cell_type": "markdown",
   "id": "aa570687",
   "metadata": {},
   "source": [
    "4. To check whether longer waiting time lead to more no-shows"
   ]
  },
  {
   "cell_type": "code",
   "execution_count": null,
   "id": "f8dee71c",
   "metadata": {},
   "outputs": [],
   "source": [
    "plt.figure(figsize=(10, 5))\n",
    "sns.boxplot(data=df, x='No-show', y='WaitingDays',hue='No-show',palette='coolwarm',legend=False)\n",
    "plt.title('Waiting Days by No-show Status')\n",
    "plt.xlabel('No-show')\n",
    "plt.ylabel('Waiting Days')\n",
    "plt.show()\n"
   ]
  },
  {
   "cell_type": "markdown",
   "id": "14fa92a9",
   "metadata": {},
   "source": [
    "5. To check No-show Rates Among Scholarship Holders"
   ]
  },
  {
   "cell_type": "code",
   "execution_count": null,
   "id": "5f2a13dc",
   "metadata": {},
   "outputs": [],
   "source": [
    "\n",
    "# Set plot style\n",
    "plt.figure(figsize=(10,5))\n",
    "sns.countplot(data=df, x='Scholarship', hue='No-show', palette='Set2')\n",
    "\n",
    "# Add labels and title\n",
    "plt.title('No-show by Scholarship Status')\n",
    "plt.xlabel('Scholarship (0 = No, 1 = Yes)')\n",
    "plt.ylabel('Count')\n",
    "plt.legend(title='No-show')\n",
    "\n",
    "plt.tight_layout()\n",
    "plt.show()\n"
   ]
  },
  {
   "cell_type": "code",
   "execution_count": null,
   "id": "eefc5b04",
   "metadata": {},
   "outputs": [],
   "source": [
    "scholarship_group = df.groupby('Scholarship')['No-show'].value_counts(normalize=True).unstack() *100\n",
    "print(scholarship_group)\n"
   ]
  },
  {
   "cell_type": "markdown",
   "id": "ca232c35",
   "metadata": {},
   "source": [
    "6. Analyze the data to get the relation between Gender and No-show"
   ]
  },
  {
   "cell_type": "code",
   "execution_count": null,
   "id": "e233d421",
   "metadata": {},
   "outputs": [],
   "source": [
    "# Set plot style\n",
    "plt.figure(figsize=(10,5))\n",
    "sns.countplot(data=df, x='Gender', hue='No-show', palette='Set2')\n",
    "\n",
    "# Add labels and title\n",
    "plt.title('No-show by Gender')\n",
    "plt.xlabel('Gender (Male, Female)')\n",
    "plt.ylabel('Number of Appointments')\n",
    "plt.legend(title='No-show')\n",
    "\n",
    "plt.tight_layout()\n",
    "plt.show()"
   ]
  },
  {
   "cell_type": "code",
   "execution_count": null,
   "id": "bfa74f94",
   "metadata": {},
   "outputs": [],
   "source": [
    "gender_group = df.groupby('Gender')['No-show'].value_counts(normalize=True).unstack()*100 \n",
    "print(gender_group)\n"
   ]
  },
  {
   "cell_type": "markdown",
   "id": "1132951a",
   "metadata": {},
   "source": [
    "The dataset contains appointment records with a No-show column indicating whether a patient missed their scheduled appointment. After data cleaning, a total of 71,959 records remained.\n",
    "\n",
    "Overall, 79.81% of patients showed up for their appointments, while 20.19% did not.\n",
    "\n",
    "-- Age Analysis: The average patient age is approximately 38.5 years, with ages ranging from infants (0 years) to elderly patients (up to 115 years). Patients who missed their appointments tended to have a slightly lower median age compared to those who attended.\n",
    "\n",
    "-- Waiting Days: The number of days between scheduling and the actual appointment ranges from 0 to 178 days. It was observed that patients with longer waiting periods were more likely to miss their appointments.\n",
    "\n",
    "-- SMS Reminders: About 50% of the patients received SMS reminders. Those who received reminders had a slightly higher attendance rate, suggesting reminders may positively influence appointment adherence, although the effect was not very significant.\n",
    "\n",
    "-- Scholarship Analysis: The Scholarship variable indicates whether a patient is enrolled in a government health support program.\n",
    "\n",
    "Non-scholarship patients: 80.19% showed up, 19.81% missed.\n",
    "\n",
    "Scholarship recipients: 76.26% showed up, 23.74% missed.\n",
    "\n",
    "-- Gender Analysis: Gender did not show a significant impact on appointment attendance.\n",
    "\n",
    "Female patients: 79.69% showed up, 20.31% missed.\n",
    "\n",
    "Male patients: 80.03% showed up, 19.97% missed.\n",
    "\n",
    "\n",
    "This analysis suggests that scholarship holders may be slightly more likely to miss appointments, which could reflect socio-economic or access-related factors worth further exploration."
   ]
  },
  {
   "cell_type": "markdown",
   "id": "f37f6631",
   "metadata": {},
   "source": [
    "<div style=\"border:0.5px solid #1E90FF; padding: 10px 15px; border-radius: 5px; background-color:rgb(58, 118, 228); width: fit-content; font-size: 15px;\">\n",
    "  <h4 style=\"margin: 5px 0;\">Machine Learning Pipeline</h4>\n",
    "</div>"
   ]
  },
  {
   "cell_type": "markdown",
   "id": "1d4e59dd",
   "metadata": {},
   "source": [
    "Feature Engineering"
   ]
  },
  {
   "cell_type": "code",
   "execution_count": null,
   "id": "312e5b88",
   "metadata": {},
   "outputs": [],
   "source": [
    "### Make a copy to preserve the original data\n",
    "df_ml = df.copy()\n",
    "\n",
    "### Encode target variable: 'No' → 0 (show), 'Yes' → 1 (no-show)\n",
    "df_ml['No-show'] = df_ml['No-show'].map({'No': 0, 'Yes': 1})\n",
    "\n",
    "### Convert 'Gender' into binary: 'F' → 0, 'M' → 1\n",
    "df_ml['Gender'] = df_ml['Gender'].map({'F': 0, 'M': 1})\n",
    "\n",
    "### Drop irrelevant features that don’t help in prediction\n",
    "df_ml = df_ml.drop(['PatientId', 'AppointmentID', 'ScheduledDay', 'AppointmentDay', 'Neighbourhood'], axis=1)\n",
    "\n",
    "# View the cleaned features\n",
    "df_ml.head()"
   ]
  },
  {
   "cell_type": "code",
   "execution_count": null,
   "id": "2dfe29a8",
   "metadata": {},
   "outputs": [],
   "source": [
    "from sklearn.model_selection import train_test_split  ### to split data\n",
    "\n",
    "### X = all columns except 'No-show'\n",
    "### y = only 'No-show' column (this is what we want to predict)\n",
    "X = df_ml.drop('No-show', axis=1)\n",
    "y = df_ml['No-show']\n",
    "\n",
    "### split into 80% training and 20% testing\n",
    "X_train, X_test, y_train, y_test = train_test_split(X, y, test_size=0.2, random_state=42)\n",
    "\n",
    "# show shape of the datasets\n",
    "print(\"X_train shape:\", X_train.shape)\n",
    "print(\"X_test shape:\", X_test.shape)\n",
    "print(\"y_train shape:\", y_train.shape)\n",
    "print(\"y_test shape:\", y_test.shape)"
   ]
  },
  {
   "cell_type": "markdown",
   "id": "b72ac48f",
   "metadata": {},
   "source": [
    "Model Building with Decision Tree"
   ]
  },
  {
   "cell_type": "code",
   "execution_count": null,
   "id": "9ca5427f",
   "metadata": {},
   "outputs": [],
   "source": [
    "### Import the required libraries\n",
    "\n",
    "### 1. Import the model\n",
    "from sklearn.tree import DecisionTreeClassifier\n",
    "\n",
    "### 2. Initialize the classifier\n",
    "model = DecisionTreeClassifier(random_state=42)\n",
    "\n",
    "### 3. Fit (train) the model on training data\n",
    "model.fit(X_train, y_train)\n"
   ]
  },
  {
   "cell_type": "markdown",
   "id": "237a5142",
   "metadata": {},
   "source": [
    "MODEL EVALUATION"
   ]
  },
  {
   "cell_type": "code",
   "execution_count": null,
   "id": "a0377c10",
   "metadata": {},
   "outputs": [],
   "source": [
    "from sklearn.metrics import accuracy_score, classification_report, confusion_matrix\n",
    "\n",
    "# 1. Make predictions on the test set\n",
    "y_pred = model.predict(X_test)\n",
    "\n",
    "# 2. Check accuracy\n",
    "accuracy = accuracy_score(y_test, y_pred)\n",
    "print(f\"Accuracy: {accuracy:.2f}\")\n",
    "\n",
    "# 3. Confusion Matrix\n",
    "cm = confusion_matrix(y_test, y_pred)\n",
    "print(\"Confusion Matrix:\\n\", cm)\n",
    "\n",
    "# 4. Classification Report\n",
    "report = classification_report(y_test, y_pred)\n",
    "print(\"Classification Report:\\n\", report)\n"
   ]
  },
  {
   "cell_type": "code",
   "execution_count": null,
   "id": "e1e6f8c0",
   "metadata": {},
   "outputs": [],
   "source": [
    "from IPython.display import Image, display\n",
    "display(Image(filename='C:/Users/DEEPANSHI/OneDrive/Desktop/INTERNSHIP ELEVATE LABS/project 1/dashboard.jpg'))\n",
    "\n"
   ]
  },
  {
   "cell_type": "markdown",
   "id": "b69c9d4b",
   "metadata": {},
   "source": [
    "8.Recommendations"
   ]
  },
  {
   "cell_type": "markdown",
   "id": "713769cc",
   "metadata": {},
   "source": [
    "- Increase SMS reminder coverage to more patients — current coverage is only ~49.3%.\n",
    "\n",
    "- Consider sending multiple reminders to reduce no-shows, especially for younger age groups.\n",
    "\n",
    "- Reduce no-show risk by offering appointments within 2–3 days of booking, especially for repeat patients.\n",
    "\n",
    "- Add options for patients to easily cancel/reschedule appointments via app or SMS, which reduces unnotified no-shows.\n"
   ]
  }
 ],
 "metadata": {
  "kernelspec": {
   "display_name": "Python 3",
   "language": "python",
   "name": "python3"
  },
  "language_info": {
   "codemirror_mode": {
    "name": "ipython",
    "version": 3
   },
   "file_extension": ".py",
   "mimetype": "text/x-python",
   "name": "python",
   "nbconvert_exporter": "python",
   "pygments_lexer": "ipython3",
   "version": "3.13.3"
  }
 },
 "nbformat": 4,
 "nbformat_minor": 5
}
